{
 "cells": [
  {
   "cell_type": "code",
   "execution_count": null,
   "metadata": {
    "ExecuteTime": {
     "end_time": "2020-06-14T14:40:46.752240Z",
     "start_time": "2020-06-14T14:40:44.550231Z"
    }
   },
   "outputs": [],
   "source": [
    "%config IPCompleter.greedy=True\n",
    "from tqdm import tqdm_notebook as tqdm\n",
    "import requests\n",
    "import json\n",
    "import os\n",
    "from time import sleep"
   ]
  },
  {
   "cell_type": "code",
   "execution_count": null,
   "metadata": {
    "ExecuteTime": {
     "end_time": "2020-06-14T14:40:50.774661Z",
     "start_time": "2020-06-14T14:40:50.767389Z"
    }
   },
   "outputs": [],
   "source": [
    "def json_read(filename):\n",
    "    with open(filename, 'r') as inf:\n",
    "        res = json.load(inf)\n",
    "    return res\n",
    "\n",
    "def json_dump(obj, filename, ea=False, indent=4):\n",
    "    with open(filename, 'w') as ouf:\n",
    "        json.dump(obj, ouf, ensure_ascii=ea, indent=indent)"
   ]
  },
  {
   "cell_type": "markdown",
   "metadata": {},
   "source": [
    "### Assign dump path"
   ]
  },
  {
   "cell_type": "markdown",
   "metadata": {},
   "source": [
    "Choose the path where you want a dump to be located"
   ]
  },
  {
   "cell_type": "code",
   "execution_count": null,
   "metadata": {
    "ExecuteTime": {
     "end_time": "2020-06-14T14:40:53.015300Z",
     "start_time": "2020-06-14T14:40:53.008293Z"
    }
   },
   "outputs": [],
   "source": [
    "dump_path = '/home/user/wikidata_dump'"
   ]
  },
  {
   "cell_type": "markdown",
   "metadata": {},
   "source": [
    "### Load all entities' qids"
   ]
  },
  {
   "cell_type": "code",
   "execution_count": null,
   "metadata": {
    "ExecuteTime": {
     "end_time": "2020-06-14T14:44:32.207526Z",
     "start_time": "2020-06-14T14:44:31.303655Z"
    }
   },
   "outputs": [],
   "source": [
    "all_entities = json_read('all_entities.json')"
   ]
  },
  {
   "cell_type": "code",
   "execution_count": null,
   "metadata": {
    "ExecuteTime": {
     "end_time": "2020-06-14T20:26:48.713300Z",
     "start_time": "2020-06-14T20:26:48.700146Z"
    }
   },
   "outputs": [],
   "source": [
    "n_batches = len(all_entities) // 1000 + 1"
   ]
  },
  {
   "cell_type": "markdown",
   "metadata": {},
   "source": [
    "### Batched CONSTRUCT queries"
   ]
  },
  {
   "cell_type": "code",
   "execution_count": null,
   "metadata": {
    "ExecuteTime": {
     "end_time": "2020-06-14T15:15:42.228606Z",
     "start_time": "2020-06-14T15:15:42.221400Z"
    }
   },
   "outputs": [],
   "source": [
    "def save_construct_query(idx, query_builder, path):\n",
    "    sleep(1)\n",
    "    begin = i * batch_size\n",
    "    end = (i + 1) * batch_size\n",
    "    uris = ' '.join(['wd:' + qid for qid in all_entities[begin:end]])\n",
    "    query = query_builder(uris)\n",
    "    resp = requests.post('https://query.wikidata.org/sparql', data={'query': query}, headers={'Accept': 'text/turtle'})\n",
    "    with open(f'{path}/{idx}.ttl', 'w') as ouf:\n",
    "        ouf.write(resp.text)"
   ]
  },
  {
   "cell_type": "code",
   "execution_count": null,
   "metadata": {
    "ExecuteTime": {
     "end_time": "2020-06-14T15:15:59.073476Z",
     "start_time": "2020-06-14T15:15:59.067322Z"
    }
   },
   "outputs": [],
   "source": [
    "def get_construct_for_batches(query_builder, path, batch_size=1000):\n",
    "    n_batches = len(all_entities) // batch_size + 1\n",
    "    for i in tqdm(range(n_batches)):\n",
    "        save_construct_query(i, query_builder, path)"
   ]
  },
  {
   "cell_type": "code",
   "execution_count": null,
   "metadata": {
    "ExecuteTime": {
     "end_time": "2020-06-14T15:15:59.312882Z",
     "start_time": "2020-06-14T15:15:59.306429Z"
    }
   },
   "outputs": [],
   "source": [
    "def check_empties(path, batch_size=1000):\n",
    "    n_batches = len(all_entities) // batch_size + 1\n",
    "    cnt = 0\n",
    "    for i in tqdm(range(n_batches)):\n",
    "        if os.stat(f'{path}/{i}.ttl').st_size < 2000:\n",
    "            cnt += 1\n",
    "    print(cnt)"
   ]
  },
  {
   "cell_type": "code",
   "execution_count": null,
   "metadata": {
    "ExecuteTime": {
     "end_time": "2020-06-14T15:16:52.543337Z",
     "start_time": "2020-06-14T15:16:52.537282Z"
    }
   },
   "outputs": [],
   "source": [
    "def repeat_construct_for_batches(query_builder, path, batch_size=1000):\n",
    "    n_batches = len(all_entities) // batch_size + 1\n",
    "    for i in tqdm(range(n_batches)):\n",
    "        if os.stat(f'{path}/{i}.ttl').st_size < 2000:\n",
    "            save_construct_query(i, query_builder, path)"
   ]
  },
  {
   "cell_type": "markdown",
   "metadata": {},
   "source": [
    "### Get labels for all entities"
   ]
  },
  {
   "cell_type": "code",
   "execution_count": null,
   "metadata": {
    "ExecuteTime": {
     "end_time": "2020-06-14T15:12:23.887390Z",
     "start_time": "2020-06-14T15:12:23.883285Z"
    }
   },
   "outputs": [],
   "source": [
    "def query_builder_label(uris):\n",
    "    return f'''\n",
    "    CONSTRUCT {{\n",
    "      ?e0 rdfs:label ?label .\n",
    "    }}\n",
    "    WHERE {{\n",
    "      VALUES ?e0 {{ {uris} }} .\n",
    "      ?e0 rdfs:label ?label .\n",
    "      FILTER (lang(?label) = \"ru\" || lang(?label) = \"en\") .\n",
    "    }}\n",
    "    '''"
   ]
  },
  {
   "cell_type": "code",
   "execution_count": null,
   "metadata": {},
   "outputs": [],
   "source": [
    "get_construct_for_batches(query_builder_label, f'{dump_path}/lbl')"
   ]
  },
  {
   "cell_type": "markdown",
   "metadata": {},
   "source": [
    "Wikidata endpoint occasionally gives 'empty' response, so we should check if all the batches are valid."
   ]
  },
  {
   "cell_type": "code",
   "execution_count": null,
   "metadata": {
    "ExecuteTime": {
     "end_time": "2020-04-02T22:11:57.679264Z",
     "start_time": "2020-04-02T22:11:57.645720Z"
    }
   },
   "outputs": [],
   "source": [
    "check_empties(f'{dump_path}/lbl')"
   ]
  },
  {
   "cell_type": "markdown",
   "metadata": {},
   "source": [
    "If not, request for these parts once again."
   ]
  },
  {
   "cell_type": "code",
   "execution_count": null,
   "metadata": {
    "ExecuteTime": {
     "end_time": "2020-04-02T22:11:55.043304Z",
     "start_time": "2020-04-02T22:11:49.574111Z"
    }
   },
   "outputs": [],
   "source": [
    "repeat_construct_for_batches(query_builder_label, f'{dump_path}/lbl')"
   ]
  },
  {
   "cell_type": "markdown",
   "metadata": {},
   "source": [
    "### Get aliases for all entities"
   ]
  },
  {
   "cell_type": "code",
   "execution_count": null,
   "metadata": {},
   "outputs": [],
   "source": [
    "def query_builder_alias(uris):\n",
    "    return f'''\n",
    "    CONSTRUCT {{\n",
    "      ?e0 skos:altLabel ?label .\n",
    "    }}\n",
    "    WHERE {{\n",
    "      VALUES ?e0 {{ {uris} }} .\n",
    "      ?e0 skos:altLabel ?label .\n",
    "      FILTER (lang(?label) = \"ru\" || lang(?label) = \"en\") .\n",
    "    }}\n",
    "    '''"
   ]
  },
  {
   "cell_type": "code",
   "execution_count": null,
   "metadata": {
    "ExecuteTime": {
     "end_time": "2020-04-03T00:24:30.664275Z",
     "start_time": "2020-04-02T22:18:25.729033Z"
    }
   },
   "outputs": [],
   "source": [
    "get_construct_for_batches(query_builder_alias, f'{dump_path}/als')"
   ]
  },
  {
   "cell_type": "code",
   "execution_count": null,
   "metadata": {
    "ExecuteTime": {
     "end_time": "2020-04-03T00:38:13.691036Z",
     "start_time": "2020-04-03T00:38:13.646908Z"
    }
   },
   "outputs": [],
   "source": [
    "check_empties(f'{dump_path}/als')"
   ]
  },
  {
   "cell_type": "code",
   "execution_count": null,
   "metadata": {
    "ExecuteTime": {
     "end_time": "2020-04-03T00:38:10.491066Z",
     "start_time": "2020-04-03T00:37:12.950652Z"
    }
   },
   "outputs": [],
   "source": [
    "repeat_construct_for_batches(query_builder_alias, f'{dump_path}/als')"
   ]
  },
  {
   "cell_type": "markdown",
   "metadata": {},
   "source": [
    "### Get truthy statements"
   ]
  },
  {
   "cell_type": "code",
   "execution_count": null,
   "metadata": {},
   "outputs": [],
   "source": [
    "def query_builder_truthy(uris):\n",
    "    return f'''\n",
    "    CONSTRUCT {{\n",
    "      ?e0 ?p1 ?e1 .\n",
    "    }}\n",
    "    WHERE {{\n",
    "      VALUES ?e0 {{ {uris} }} .\n",
    "      ?e0 ?p1 ?e1 .\n",
    "      FILTER strstarts(str(?p1), str(wdt:)) .\n",
    "    }}\n",
    "    '''"
   ]
  },
  {
   "cell_type": "code",
   "execution_count": null,
   "metadata": {},
   "outputs": [],
   "source": [
    "get_construct_for_batches(query_builder_truthy, f'{dump_path}/wdt')"
   ]
  },
  {
   "cell_type": "code",
   "execution_count": null,
   "metadata": {},
   "outputs": [],
   "source": [
    "check_empties(f'{dump_path}/wdt')"
   ]
  },
  {
   "cell_type": "code",
   "execution_count": null,
   "metadata": {},
   "outputs": [],
   "source": [
    "repeat_construct_for_batches(query_builder_truthy, f'{dump_path}/wdt')"
   ]
  },
  {
   "cell_type": "markdown",
   "metadata": {},
   "source": [
    "### Get full statements"
   ]
  },
  {
   "cell_type": "code",
   "execution_count": null,
   "metadata": {},
   "outputs": [],
   "source": [
    "def query_builder_full(uris):\n",
    "    return f'''\n",
    "    CONSTRUCT {{\n",
    "      ?x ?p ?y .\n",
    "      ?y ?p2 ?z .\n",
    "      ?z wikibase:quantityAmount ?t .\n",
    "    }}\n",
    "    WHERE {{\n",
    "      VALUES ?x {{ {uris} }}\n",
    "      ?x ?p ?y .\n",
    "      FILTER strstarts(str(?p), \"http://www.wikidata.org/prop/P\") .\n",
    "      ?y ?p2 ?z .\n",
    "      FILTER strstarts(str(?p2), str(p:)) .\n",
    "      OPTIONAL {{ ?z wikibase:quantityAmount ?t }} .\n",
    "    }}\n",
    "    '''"
   ]
  },
  {
   "cell_type": "code",
   "execution_count": null,
   "metadata": {},
   "outputs": [],
   "source": [
    "get_construct_for_batches(query_builder_full, f'{dump_path}/pch')"
   ]
  },
  {
   "cell_type": "code",
   "execution_count": null,
   "metadata": {},
   "outputs": [],
   "source": [
    "check_empties(f'{dump_path}/pch')"
   ]
  },
  {
   "cell_type": "code",
   "execution_count": null,
   "metadata": {},
   "outputs": [],
   "source": [
    "repeat_construct_for_batches(query_builder_full, f'{dump_path}/pch')"
   ]
  },
  {
   "cell_type": "markdown",
   "metadata": {},
   "source": [
    "### Merge labels and aliases"
   ]
  },
  {
   "cell_type": "code",
   "execution_count": null,
   "metadata": {},
   "outputs": [],
   "source": [
    "with open(f'{dump_path}/lbl_als_wop.ttl', 'w'), open(f'{dump_path}/names.ttl', 'w'):\n",
    "    pass\n",
    "\n",
    "prefixes = set()"
   ]
  },
  {
   "cell_type": "code",
   "execution_count": null,
   "metadata": {},
   "outputs": [],
   "source": [
    "with open(f'{dump_path}/lbl_als_wop.ttl', 'a') as ouf:\n",
    "    for i in tqdm(range(n_batches)):\n",
    "        with open(f'{rdf_path}/lbl/{i}.ttl', 'r') as inf:\n",
    "            for line in inf:\n",
    "                if line[:7] != \"@prefix\":\n",
    "                    ouf.write(line)\n",
    "                else:\n",
    "                    prefixes.add(line)\n",
    "        with open(f'{rdf_path}/als/{i}.ttl', 'r') as inf:\n",
    "            for line in inf:\n",
    "                if line[:7] != \"@prefix\":\n",
    "                    ouf.write(line)\n",
    "                else:\n",
    "                    prefixes.add(line)"
   ]
  },
  {
   "cell_type": "code",
   "execution_count": null,
   "metadata": {},
   "outputs": [],
   "source": [
    "with open(f'{dump_path}/names.ttl', 'w') as ouf, open(f'{dump_path}/lbl_als_wop.ttl', 'r') as inf:\n",
    "    for p in prefixes:\n",
    "        ouf.write(p)\n",
    "    ouf.write('\\n')\n",
    "    for line in inf:\n",
    "        ouf.write(line)"
   ]
  },
  {
   "cell_type": "markdown",
   "metadata": {},
   "source": [
    "### Merge truthy"
   ]
  },
  {
   "cell_type": "code",
   "execution_count": null,
   "metadata": {},
   "outputs": [],
   "source": [
    "with open(f'{dump_path}/wdt_wop.ttl', 'w'), open(f'{dump_path}/wdt_all.ttl', 'w'):\n",
    "    pass\n",
    "\n",
    "prefixes = set()"
   ]
  },
  {
   "cell_type": "code",
   "execution_count": null,
   "metadata": {},
   "outputs": [],
   "source": [
    "with open(f'{dump_path}/wdt_wop.ttl', 'a') as ouf:\n",
    "    for i in tqdm(range(n_batches)):\n",
    "        with open(f'{dump_path}/wdt/{i}.ttl', 'r') as inf:\n",
    "            for line in inf:\n",
    "                if line[:7] != \"@prefix\":\n",
    "                    ouf.write(line)\n",
    "                else:\n",
    "                    prefixes.add(line)"
   ]
  },
  {
   "cell_type": "code",
   "execution_count": null,
   "metadata": {},
   "outputs": [],
   "source": [
    "with open(f'{dump_path}/wdt_all.ttl', 'w') as ouf, open(f'{dump_path}/wdt_wop.ttl', 'r') as inf:\n",
    "    for p in prefixes:\n",
    "        ouf.write(p)\n",
    "    ouf.write('\\n')\n",
    "    for line in inf:\n",
    "        ouf.write(line)"
   ]
  },
  {
   "cell_type": "markdown",
   "metadata": {},
   "source": [
    "### Merge full"
   ]
  },
  {
   "cell_type": "code",
   "execution_count": null,
   "metadata": {},
   "outputs": [],
   "source": [
    "intervals = [\n",
    "    (0, 0, 200),\n",
    "    (1, 200, 500),\n",
    "    (2, 500, 1000),\n",
    "    (3, 1000, 1700),\n",
    "    (4, 1700, 2400),\n",
    "    (5, 2400, 3200),\n",
    "    (6, 3200, 4115)\n",
    "]"
   ]
  },
  {
   "cell_type": "code",
   "execution_count": null,
   "metadata": {},
   "outputs": [],
   "source": [
    "for part_id, begin, end in intervals:\n",
    "    print(part_id)\n",
    "    with open(f'{dump_path}/pch_{part_id}_wop.ttl', 'w'), open(f'{dump_path}/pch_{part_id}.ttl', 'w'):\n",
    "        pass\n",
    "\n",
    "    prefixes = set()\n",
    "\n",
    "    with open(f'{dump_path}/pch_{part_id}_wop.ttl', 'a') as ouf:\n",
    "        for i in tqdm(range(begin, end)):\n",
    "            with open(f'{dump_path}/pch/{i}.ttl', 'r') as inf:\n",
    "                for line in inf:\n",
    "                    if line[:7] != \"@prefix\":\n",
    "                        ouf.write(line)\n",
    "                    else:\n",
    "                        prefixes.add(line)\n",
    "\n",
    "    with open(f'{dump_path}/pch_{part_id}.ttl', 'w') as ouf, open(f'{dump_path}/pch_{part_id}_wop.ttl', 'r') as inf:\n",
    "        for p in prefixes:\n",
    "            ouf.write(p)\n",
    "        ouf.write('\\n')\n",
    "        for line in inf:\n",
    "            ouf.write(line)"
   ]
  },
  {
   "cell_type": "code",
   "execution_count": null,
   "metadata": {},
   "outputs": [],
   "source": []
  }
 ],
 "metadata": {
  "kernelspec": {
   "display_name": "Python [conda env:kbqa]",
   "language": "python",
   "name": "conda-env-kbqa-py"
  },
  "language_info": {
   "codemirror_mode": {
    "name": "ipython",
    "version": 3
   },
   "file_extension": ".py",
   "mimetype": "text/x-python",
   "name": "python",
   "nbconvert_exporter": "python",
   "pygments_lexer": "ipython3",
   "version": "3.7.3"
  }
 },
 "nbformat": 4,
 "nbformat_minor": 4
}
